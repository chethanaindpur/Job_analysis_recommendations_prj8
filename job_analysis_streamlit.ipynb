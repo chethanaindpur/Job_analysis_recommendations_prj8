{
  "nbformat": 4,
  "nbformat_minor": 0,
  "metadata": {
    "colab": {
      "provenance": []
    },
    "kernelspec": {
      "name": "python3",
      "display_name": "Python 3"
    },
    "language_info": {
      "name": "python"
    }
  },
  "cells": [
    {
      "cell_type": "code",
      "execution_count": 1,
      "metadata": {
        "colab": {
          "base_uri": "https://localhost:8080/"
        },
        "id": "frTf4GBdYHWF",
        "outputId": "c3d0beb6-d6c6-4c56-9a33-00eae4aceaa0"
      },
      "outputs": [
        {
          "output_type": "stream",
          "name": "stdout",
          "text": [
            "\u001b[2K   \u001b[90m━━━━━━━━━━━━━━━━━━━━━━━━━━━━━━━━━━━━━━━━\u001b[0m \u001b[32m10.0/10.0 MB\u001b[0m \u001b[31m44.2 MB/s\u001b[0m eta \u001b[36m0:00:00\u001b[0m\n",
            "\u001b[2K   \u001b[90m━━━━━━━━━━━━━━━━━━━━━━━━━━━━━━━━━━━━━━━━\u001b[0m \u001b[32m6.9/6.9 MB\u001b[0m \u001b[31m36.4 MB/s\u001b[0m eta \u001b[36m0:00:00\u001b[0m\n",
            "\u001b[?25h"
          ]
        }
      ],
      "source": [
        "!pip install streamlit pyngrok joblib --quiet\n"
      ]
    },
    {
      "cell_type": "code",
      "source": [
        "# ----------------------------\n",
        "# Install dependencies\n",
        "# ----------------------------\n",
        "!pip install streamlit pyngrok joblib --quiet\n",
        "\n",
        "# ----------------------------\n",
        "# Imports\n",
        "# ----------------------------\n",
        "import streamlit as st\n",
        "import pandas as pd\n",
        "import joblib\n",
        "from pyngrok import ngrok\n",
        "import numpy as np\n",
        "\n",
        "# ----------------------------\n",
        "# Load dataset\n",
        "# ----------------------------\n",
        "df = pd.read_csv(\"/content/all_upwork_jobs.csv\", encoding=\"latin1\", on_bad_lines=\"skip\")\n",
        "\n",
        "# Preprocess salaries\n",
        "for c in [\"hourly_low\",\"hourly_high\",\"budget\"]:\n",
        "    if c in df.columns:\n",
        "        df[c] = pd.to_numeric(df[c], errors=\"coerce\")\n",
        "\n",
        "df[\"avg_hourly\"] = df[[\"hourly_low\",\"hourly_high\"]].mean(axis=1)\n",
        "df[\"hourly_monthly\"] = df[\"avg_hourly\"] * 160\n",
        "df[\"effective_salary\"] = df.apply(\n",
        "    lambda r: r[\"hourly_monthly\"] if pd.notna(r.get(\"hourly_monthly\")) and r.get(\"is_hourly\", False)\n",
        "    else r.get(\"budget\", 0),\n",
        "    axis=1\n",
        ")\n",
        "df[\"text\"] = df[\"title\"].fillna(\"\") + \" \" + df[\"country\"].fillna(\"\")\n",
        "\n",
        "# ----------------------------\n",
        "# Load models\n",
        "# ----------------------------\n",
        "vectorizer = joblib.load(\"/content/models/tfidf_vectorizer.pkl\")\n",
        "svd = joblib.load(\"/content/models/svd_model.pkl\")\n",
        "nn_model = joblib.load(\"/content/models/nn_model.pkl\")\n",
        "\n",
        "X_tfidf = vectorizer.transform(df[\"text\"])\n",
        "X_reduced = svd.transform(X_tfidf)\n",
        "\n",
        "# ----------------------------\n",
        "# Streamlit app\n",
        "# ----------------------------\n",
        "st.set_page_config(page_title=\"Job Recommendation App\", layout=\"wide\")\n",
        "st.title(\"📌 Job Recommendation System\")\n",
        "\n",
        "job_index = st.number_input(\"Job Index:\", min_value=0, max_value=len(df)-1, value=0)\n",
        "num_rec = st.number_input(\"Number of Recommendations:\", min_value=1, max_value=20, value=5)\n",
        "\n",
        "if st.button(\"Get Recommendations\"):\n",
        "    distances, indices = nn_model.kneighbors([X_reduced[job_index]], n_neighbors=num_rec+1)\n",
        "    recs = []\n",
        "    for idx in indices[0]:\n",
        "        if idx != job_index:\n",
        "            salary = df.iloc[idx][\"effective_salary\"]\n",
        "            recs.append({\n",
        "                \"Title\": df.iloc[idx][\"title\"],\n",
        "                \"Country\": df.iloc[idx][\"country\"],\n",
        "                \"Effective Salary\": float(salary) if salary > 0 else \"N/A\"\n",
        "            })\n",
        "    st.table(pd.DataFrame(recs))\n",
        "\n",
        "# ----------------------------\n",
        "# Run Streamlit via ngrok\n",
        "# ----------------------------\n",
        "import os\n",
        "import threading\n",
        "\n",
        "def start_streamlit():\n",
        "    os.system(\"streamlit run /content/streamlit_app.py\")\n",
        "\n",
        "# Save this code as a .py file\n",
        "with open(\"/content/streamlit_app.py\", \"w\") as f:\n",
        "    f.write(\"\"\"\n",
        "import streamlit as st\n",
        "import pandas as pd\n",
        "import joblib\n",
        "import numpy as np\n",
        "\n",
        "df = pd.read_csv(\"/content/all_upwork_jobs.csv\", encoding=\"latin1\", on_bad_lines=\"skip\")\n",
        "\n",
        "for c in [\"hourly_low\",\"hourly_high\",\"budget\"]:\n",
        "    if c in df.columns:\n",
        "        df[c] = pd.to_numeric(df[c], errors=\"coerce\")\n",
        "\n",
        "df[\"avg_hourly\"] = df[[\"hourly_low\",\"hourly_high\"]].mean(axis=1)\n",
        "df[\"hourly_monthly\"] = df[\"avg_hourly\"] * 160\n",
        "df[\"effective_salary\"] = df.apply(\n",
        "    lambda r: r[\"hourly_monthly\"] if pd.notna(r.get(\"hourly_monthly\")) and r.get(\"is_hourly\", False)\n",
        "    else r.get(\"budget\", 0),\n",
        "    axis=1\n",
        ")\n",
        "df[\"text\"] = df[\"title\"].fillna(\"\") + \" \" + df[\"country\"].fillna(\"\")\n",
        "\n",
        "vectorizer = joblib.load(\"/content/models/tfidf_vectorizer.pkl\")\n",
        "svd = joblib.load(\"/content/models/svd_model.pkl\")\n",
        "nn_model = joblib.load(\"/content/models/nn_model.pkl\")\n",
        "X_tfidf = vectorizer.transform(df[\"text\"])\n",
        "X_reduced = svd.transform(X_tfidf)\n",
        "\n",
        "st.title(\"📌 Job Recommendation System\")\n",
        "job_index = st.number_input(\"Job Index:\", min_value=0, max_value=len(df)-1, value=0)\n",
        "num_rec = st.number_input(\"Number of Recommendations:\", min_value=1, max_value=20, value=5)\n",
        "\n",
        "if st.button(\"Get Recommendations\"):\n",
        "    distances, indices = nn_model.kneighbors([X_reduced[job_index]], n_neighbors=num_rec+1)\n",
        "    recs = []\n",
        "    for idx in indices[0]:\n",
        "        if idx != job_index:\n",
        "            salary = df.iloc[idx][\"effective_salary\"]\n",
        "            recs.append({\n",
        "                \"Title\": df.iloc[idx][\"title\"],\n",
        "                \"Country\": df.iloc[idx][\"country\"],\n",
        "                \"Effective Salary\": float(salary) if salary > 0 else \"N/A\"\n",
        "            })\n",
        "    st.table(pd.DataFrame(recs))\n",
        "\"\"\")\n",
        "\n",
        "# Start ngrok tunnel\n",
        "NGROK_AUTH_TOKEN = \"30WMYAsA1jiKQqsxhjzDBd6oamD_3jXCRjDbLja2dravFoxsY\"\n",
        "from pyngrok import ngrok\n",
        "ngrok.set_auth_token(NGROK_AUTH_TOKEN)\n",
        "public_url = ngrok.connect(8501)\n",
        "print(\" * Streamlit public URL:\", public_url)\n",
        "\n",
        "# Run Streamlit\n",
        "threading.Thread(target=lambda: os.system(\"streamlit run /content/streamlit_app.py\")).start()\n"
      ],
      "metadata": {
        "colab": {
          "base_uri": "https://localhost:8080/"
        },
        "id": "ReIKYqr4Yugt",
        "outputId": "98048b40-4a58-41cb-a24f-c33cbc515d45"
      },
      "execution_count": 8,
      "outputs": [
        {
          "output_type": "stream",
          "name": "stderr",
          "text": [
            "2025-09-07 23:02:26.338 WARNING streamlit.runtime.scriptrunner_utils.script_run_context: Thread 'MainThread': missing ScriptRunContext! This warning can be ignored when running in bare mode.\n",
            "2025-09-07 23:02:26.339 WARNING streamlit.runtime.scriptrunner_utils.script_run_context: Thread 'MainThread': missing ScriptRunContext! This warning can be ignored when running in bare mode.\n",
            "2025-09-07 23:02:26.519 \n",
            "  \u001b[33m\u001b[1mWarning:\u001b[0m to view this Streamlit app on a browser, run it with the following\n",
            "  command:\n",
            "\n",
            "    streamlit run /usr/local/lib/python3.12/dist-packages/colab_kernel_launcher.py [ARGUMENTS]\n",
            "2025-09-07 23:02:26.520 Thread 'MainThread': missing ScriptRunContext! This warning can be ignored when running in bare mode.\n",
            "2025-09-07 23:02:26.522 Thread 'MainThread': missing ScriptRunContext! This warning can be ignored when running in bare mode.\n",
            "2025-09-07 23:02:26.524 Thread 'MainThread': missing ScriptRunContext! This warning can be ignored when running in bare mode.\n",
            "2025-09-07 23:02:26.525 Thread 'MainThread': missing ScriptRunContext! This warning can be ignored when running in bare mode.\n",
            "2025-09-07 23:02:26.526 Thread 'MainThread': missing ScriptRunContext! This warning can be ignored when running in bare mode.\n",
            "2025-09-07 23:02:26.528 Thread 'MainThread': missing ScriptRunContext! This warning can be ignored when running in bare mode.\n",
            "2025-09-07 23:02:26.528 Session state does not function when running a script without `streamlit run`\n",
            "2025-09-07 23:02:26.530 Thread 'MainThread': missing ScriptRunContext! This warning can be ignored when running in bare mode.\n",
            "2025-09-07 23:02:26.531 Thread 'MainThread': missing ScriptRunContext! This warning can be ignored when running in bare mode.\n",
            "2025-09-07 23:02:26.532 Thread 'MainThread': missing ScriptRunContext! This warning can be ignored when running in bare mode.\n",
            "2025-09-07 23:02:26.533 Thread 'MainThread': missing ScriptRunContext! This warning can be ignored when running in bare mode.\n",
            "2025-09-07 23:02:26.534 Thread 'MainThread': missing ScriptRunContext! This warning can be ignored when running in bare mode.\n",
            "2025-09-07 23:02:26.535 Thread 'MainThread': missing ScriptRunContext! This warning can be ignored when running in bare mode.\n",
            "2025-09-07 23:02:26.536 Thread 'MainThread': missing ScriptRunContext! This warning can be ignored when running in bare mode.\n",
            "2025-09-07 23:02:26.537 Thread 'MainThread': missing ScriptRunContext! This warning can be ignored when running in bare mode.\n",
            "2025-09-07 23:02:26.538 Thread 'MainThread': missing ScriptRunContext! This warning can be ignored when running in bare mode.\n",
            "2025-09-07 23:02:26.538 Thread 'MainThread': missing ScriptRunContext! This warning can be ignored when running in bare mode.\n",
            "2025-09-07 23:02:26.540 Thread 'MainThread': missing ScriptRunContext! This warning can be ignored when running in bare mode.\n",
            "2025-09-07 23:02:26.540 Thread 'MainThread': missing ScriptRunContext! This warning can be ignored when running in bare mode.\n",
            "2025-09-07 23:02:26.541 Thread 'MainThread': missing ScriptRunContext! This warning can be ignored when running in bare mode.\n",
            "2025-09-07 23:02:26.542 Thread 'MainThread': missing ScriptRunContext! This warning can be ignored when running in bare mode.\n",
            "2025-09-07 23:02:26.543 Thread 'MainThread': missing ScriptRunContext! This warning can be ignored when running in bare mode.\n",
            "2025-09-07 23:02:26.544 Thread 'MainThread': missing ScriptRunContext! This warning can be ignored when running in bare mode.\n"
          ]
        },
        {
          "output_type": "stream",
          "name": "stdout",
          "text": [
            " * Streamlit public URL: NgrokTunnel: \"https://3e74fd491cec.ngrok-free.app\" -> \"http://localhost:8501\"\n"
          ]
        }
      ]
    },
    {
      "cell_type": "code",
      "source": [
        "# Use official Python base image\n",
        "FROM python:3.12-slim\n",
        "\n",
        "# Set working directory\n",
        "WORKDIR /app\n",
        "\n",
        "# Copy all necessary files\n",
        "COPY streamlit_app.py ./\n",
        "COPY models ./models\n",
        "COPY all_upwork_jobs.csv ./all_upwork_jobs.csv\n",
        "\n",
        "# Install dependencies\n",
        "RUN pip install --no-cache-dir streamlit pandas scikit-learn joblib\n",
        "\n",
        "# Expose Streamlit default port\n",
        "EXPOSE 8501\n",
        "\n",
        "# Command to run Streamlit\n",
        "CMD [\"streamlit\", \"run\", \"streamlit_app.py\", \"--server.port=8501\", \"--server.address=0.0.0.0\", \"--browser.gatherUsageStats=false\"]\n"
      ],
      "metadata": {
        "colab": {
          "base_uri": "https://localhost:8080/",
          "height": 106
        },
        "id": "-rWV1-jXiQaM",
        "outputId": "caf47511-4831-45c2-a359-911dc31d49e3"
      },
      "execution_count": 9,
      "outputs": [
        {
          "output_type": "error",
          "ename": "SyntaxError",
          "evalue": "invalid syntax (ipython-input-2661329504.py, line 2)",
          "traceback": [
            "\u001b[0;36m  File \u001b[0;32m\"/tmp/ipython-input-2661329504.py\"\u001b[0;36m, line \u001b[0;32m2\u001b[0m\n\u001b[0;31m    FROM python:3.12-slim\u001b[0m\n\u001b[0m         ^\u001b[0m\n\u001b[0;31mSyntaxError\u001b[0m\u001b[0;31m:\u001b[0m invalid syntax\n"
          ]
        }
      ]
    }
  ]
}