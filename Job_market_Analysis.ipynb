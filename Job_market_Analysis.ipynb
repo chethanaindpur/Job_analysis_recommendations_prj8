{
  "nbformat": 4,
  "nbformat_minor": 0,
  "metadata": {
    "colab": {
      "provenance": [],
      "gpuType": "T4"
    },
    "kernelspec": {
      "name": "python3",
      "display_name": "Python 3"
    },
    "language_info": {
      "name": "python"
    },
    "accelerator": "GPU"
  },
  "cells": [
    {
      "cell_type": "code",
      "execution_count": 2,
      "metadata": {
        "id": "xeaNvV4LIKhq"
      },
      "outputs": [],
      "source": [
        "import os\n",
        "import numpy as np\n",
        "import pandas as pd\n",
        "import matplotlib.pyplot as plt\n",
        "import seaborn as sns\n",
        "from sklearn.feature_extraction.text import TfidfVectorizer\n",
        "from sklearn.decomposition import TruncatedSVD\n",
        "from sklearn.ensemble import RandomForestRegressor\n",
        "from sklearn.model_selection import train_test_split\n",
        "from sklearn.metrics import mean_squared_error\n",
        "import joblib\n",
        "from sklearn.neighbors import NearestNeighbors\n",
        "\n"
      ]
    },
    {
      "cell_type": "code",
      "source": [
        "sns.set(style=\"whitegrid\")\n",
        "MODEL_DIR = \"./models\"\n",
        "os.makedirs(MODEL_DIR, exist_ok=True)"
      ],
      "metadata": {
        "id": "bOuFptfUIVj9"
      },
      "execution_count": 3,
      "outputs": []
    },
    {
      "cell_type": "markdown",
      "source": [
        "**Load data**"
      ],
      "metadata": {
        "id": "Pfz0_LdmIwlx"
      }
    },
    {
      "cell_type": "code",
      "source": [
        "def load_data(path=\"all_upwork_jobs.csv\"):\n",
        "    if os.path.exists(path):\n",
        "        print(f\"Loading dataset from {path}\")\n",
        "        df = pd.read_csv(path, encoding=\"latin1\", on_bad_lines=\"skip\")\n",
        "    else:\n",
        "        print(\"No CSV found. Creating a small demo dataset.\")\n",
        "        np.random.seed(42)\n",
        "        titles = [\"Data Engineer\",\"Full Stack Developer\",\"SEO Specialist\",\"SMMA Bubble App\",\"Talent Hunter\",\"Media Buyer\"]\n",
        "        countries = [\"United States\",\"India\",\"Portugal\",\"United Kingdom\",\"Canada\"]\n",
        "        rows = []\n",
        "        for i in range(200):\n",
        "            title = np.random.choice(titles)\n",
        "            is_hourly = np.random.rand() < 0.5\n",
        "            if is_hourly:\n",
        "                low = round(np.random.uniform(8,30),2)\n",
        "                high = round(low + np.random.uniform(0,25),2)\n",
        "                budget = np.nan\n",
        "            else:\n",
        "                low = np.nan\n",
        "                high = np.nan\n",
        "                budget = int(np.random.uniform(150,5000))\n",
        "            rows.append({\n",
        "                \"title\": title,\n",
        "                \"link\": f\"https://example.com/job/{i}\",\n",
        "                \"published_date\": pd.Timestamp(\"2024-02-17\") + pd.to_timedelta(np.random.randint(0,200),'D'),\n",
        "                \"is_hourly\": is_hourly,\n",
        "                \"hourly_low\": low,\n",
        "                \"hourly_high\": high,\n",
        "                \"budget\": budget,\n",
        "                \"country\": np.random.choice(countries)\n",
        "            })\n",
        "        df = pd.DataFrame(rows)"
      ],
      "metadata": {
        "id": "rhT2keNeIu2F"
      },
      "execution_count": 4,
      "outputs": []
    },
    {
      "cell_type": "markdown",
      "source": [
        "**Cleaning & feature engineering**"
      ],
      "metadata": {
        "id": "xqb8_rZ4KAyJ"
      }
    },
    {
      "cell_type": "code",
      "source": [
        "def load_data(path=\"all_upwork_jobs.csv\"):\n",
        "    if os.path.exists(path):\n",
        "        print(f\"Loading dataset from {path}\")\n",
        "        df = pd.read_csv(path, encoding=\"latin1\", on_bad_lines=\"skip\")\n",
        "    else:\n",
        "        print(\"No CSV found. Creating a small demo dataset.\")\n",
        "        np.random.seed(42)\n",
        "        titles = [\"Data Engineer\",\"Full Stack Developer\",\"SEO Specialist\",\"SMMA Bubble App\",\"Talent Hunter\",\"Media Buyer\"]\n",
        "        countries = [\"United States\",\"India\",\"Portugal\",\"United Kingdom\",\"Canada\"]\n",
        "        rows = []\n",
        "        for i in range(200):\n",
        "            title = np.random.choice(titles)\n",
        "            is_hourly = np.random.rand() < 0.5\n",
        "            if is_hourly:\n",
        "                low = round(np.random.uniform(8,30),2)\n",
        "                high = round(low + np.random.uniform(0,25),2)\n",
        "                budget = np.nan\n",
        "            else:\n",
        "                low = np.nan\n",
        "                high = np.nan\n",
        "                budget = int(np.random.uniform(150,5000))\n",
        "            rows.append({\n",
        "                \"title\": title,\n",
        "                \"link\": f\"https://example.com/job/{i}\",\n",
        "                \"published_date\": pd.Timestamp(\"2024-02-17\") + pd.to_timedelta(np.random.randint(0,200),'D'),\n",
        "                \"is_hourly\": is_hourly,\n",
        "                \"hourly_low\": low,\n",
        "                \"hourly_high\": high,\n",
        "                \"budget\": budget,\n",
        "                \"country\": np.random.choice(countries)\n",
        "            })\n",
        "        df = pd.DataFrame(rows)\n",
        "\n",
        "    # Clean columns\n",
        "    df.columns = [c.strip() for c in df.columns]\n",
        "    for c in [\"hourly_low\",\"hourly_high\",\"budget\"]:\n",
        "        if c in df.columns:\n",
        "            df[c] = pd.to_numeric(df[c], errors=\"coerce\")\n",
        "    if \"published_date\" in df.columns:\n",
        "        df[\"published_date\"] = pd.to_datetime(df[\"published_date\"], errors=\"coerce\")\n",
        "\n",
        "    # Compute average hourly rate\n",
        "    df[\"avg_hourly\"] = df[[\"hourly_low\",\"hourly_high\"]].mean(axis=1)\n",
        "    df[\"hourly_monthly\"] = df[\"avg_hourly\"] * 160  # 40 hours/week * 4 weeks\n",
        "\n",
        "    # Compute effective salary\n",
        "    df[\"effective_salary\"] = df.apply(\n",
        "        lambda r: r[\"hourly_monthly\"] if (pd.notna(r.get(\"hourly_monthly\")) and r.get(\"is_hourly\", False))\n",
        "        else r.get(\"budget\", np.nan),\n",
        "        axis=1\n",
        "    )\n",
        "    return df\n",
        "\n",
        "df = load_data()\n",
        "print(\"\\nData shape:\", df.shape)\n",
        "print(\"Missing values per column:\\n\", df.isna().sum())\n"
      ],
      "metadata": {
        "colab": {
          "base_uri": "https://localhost:8080/"
        },
        "id": "hGEixqc-YmkF",
        "outputId": "3cb038bb-f551-4f6b-e655-e84a74217d39"
      },
      "execution_count": 5,
      "outputs": [
        {
          "output_type": "stream",
          "name": "stdout",
          "text": [
            "Loading dataset from all_upwork_jobs.csv\n",
            "\n",
            "Data shape: (244827, 11)\n",
            "Missing values per column:\n",
            " title                    1\n",
            "link                     1\n",
            "published_date         178\n",
            "is_hourly              115\n",
            "hourly_low          142411\n",
            "hourly_high         146023\n",
            "budget              141024\n",
            "country               5248\n",
            "avg_hourly          142323\n",
            "hourly_monthly      142323\n",
            "effective_salary     38520\n",
            "dtype: int64\n"
          ]
        }
      ]
    },
    {
      "cell_type": "markdown",
      "source": [
        "**EDA & Visualization**"
      ],
      "metadata": {
        "id": "SFYuyvx1KZoZ"
      }
    },
    {
      "cell_type": "code",
      "source": [
        "# Top job titles\n",
        "top_titles = df[\"title\"].value_counts().head(8)\n",
        "print(\"\\nTop job titles:\\n\", top_titles)\n",
        "\n",
        "# Top countries\n",
        "top_countries = df[\"country\"].value_counts().head(8)\n",
        "print(\"\\nTop countries:\\n\", top_countries)\n",
        "\n",
        "# Salary stats\n",
        "salary_stats = df[\"effective_salary\"].dropna().describe().round(2)\n",
        "print(\"\\nEffective salary stats:\\n\", salary_stats)\n",
        "\n",
        "# Median & mean\n",
        "median_salary = salary_stats[\"50%\"]\n",
        "mean_salary = salary_stats[\"mean\"]\n",
        "print(f\"\\nINSIGHT: median = {median_salary}, mean = {mean_salary}\")\n"
      ],
      "metadata": {
        "colab": {
          "base_uri": "https://localhost:8080/"
        },
        "id": "7oECi0iTY6dD",
        "outputId": "32f0f680-53de-49f2-d283-53637e43edaa"
      },
      "execution_count": 6,
      "outputs": [
        {
          "output_type": "stream",
          "name": "stdout",
          "text": [
            "\n",
            "Top job titles:\n",
            " title\n",
            "Social Media Manager    419\n",
            "Virtual Assistant       339\n",
            "Logo Design             311\n",
            "Video Editor            298\n",
            "Graphic Designer        292\n",
            "Logo design             173\n",
            "Logo Designer           142\n",
            "Full Stack Developer    136\n",
            "Name: count, dtype: int64\n",
            "\n",
            "Top countries:\n",
            " country\n",
            "United States     99765\n",
            "United Kingdom    19129\n",
            "India             15833\n",
            "Australia         12611\n",
            "Canada            11648\n",
            "Pakistan           5291\n",
            "Germany            4844\n",
            "Netherlands        4432\n",
            "Name: count, dtype: int64\n",
            "\n",
            "Effective salary stats:\n",
            " count     206307.00\n",
            "mean        2799.96\n",
            "std        12543.44\n",
            "min            5.00\n",
            "25%          100.00\n",
            "50%         1000.00\n",
            "75%         3760.00\n",
            "max      1600000.00\n",
            "Name: effective_salary, dtype: float64\n",
            "\n",
            "INSIGHT: median = 1000.0, mean = 2799.96\n"
          ]
        }
      ]
    },
    {
      "cell_type": "code",
      "source": [
        "# Salary distribution\n",
        "plt.figure(figsize=(8,4))\n",
        "sns.histplot(df[\"effective_salary\"].dropna(), bins=30, kde=True)\n",
        "plt.title(\"Effective Salary Distribution (monthly-ish)\")\n",
        "plt.xlabel(\"Effective Salary\")\n",
        "plt.tight_layout()\n",
        "plt.show()"
      ],
      "metadata": {
        "colab": {
          "base_uri": "https://localhost:8080/",
          "height": 401
        },
        "id": "2qFMgvkrZFYS",
        "outputId": "331d6e8f-10ec-4446-b3e5-b15b8c76942e"
      },
      "execution_count": 7,
      "outputs": [
        {
          "output_type": "display_data",
          "data": {
            "text/plain": [
              "<Figure size 800x400 with 1 Axes>"
            ],
            "image/png": "[encoded data removed]"
          },
          "metadata": {}
        }
      ]
    },
    {
      "cell_type": "code",
      "source": [
        "# Top countries\n",
        "top_countries = df[\"country\"].value_counts().head(8)\n",
        "print(\"\\nTop countries by job count:\\n\", top_countries)"
      ],
      "metadata": {
        "id": "95oyC1uyalnu",
        "outputId": "ce2e5f05-cab2-40d6-e7a0-ea1cb607ade5",
        "colab": {
          "base_uri": "https://localhost:8080/"
        }
      },
      "execution_count": 8,
      "outputs": [
        {
          "output_type": "stream",
          "name": "stdout",
          "text": [
            "\n",
            "Top countries by job count:\n",
            " country\n",
            "United States     99765\n",
            "United Kingdom    19129\n",
            "India             15833\n",
            "Australia         12611\n",
            "Canada            11648\n",
            "Pakistan           5291\n",
            "Germany            4844\n",
            "Netherlands        4432\n",
            "Name: count, dtype: int64\n"
          ]
        }
      ]
    },
    {
      "cell_type": "code",
      "source": [
        "# Salary stats\n",
        "salary_stats = df[\"effective_salary\"].dropna().describe().round(2)\n",
        "print(\"\\nEffective salary (monthly-ish) stats:\\n\", salary_stats)"
      ],
      "metadata": {
        "id": "ye3HyPjCauK1",
        "outputId": "01f3de10-a852-4848-8791-d53bb27ba848",
        "colab": {
          "base_uri": "https://localhost:8080/"
        }
      },
      "execution_count": 9,
      "outputs": [
        {
          "output_type": "stream",
          "name": "stdout",
          "text": [
            "\n",
            "Effective salary (monthly-ish) stats:\n",
            " count     206307.00\n",
            "mean        2799.96\n",
            "std        12543.44\n",
            "min            5.00\n",
            "25%          100.00\n",
            "50%         1000.00\n",
            "75%         3760.00\n",
            "max      1600000.00\n",
            "Name: effective_salary, dtype: float64\n"
          ]
        }
      ]
    },
    {
      "cell_type": "code",
      "source": [
        "# Highest paying job(s)\n",
        "if df[\"effective_salary\"].dropna().size > 0:\n",
        "    idx_max = df[\"effective_salary\"].idxmax()\n",
        "    row_max = df.loc[idx_max]\n",
        "    print(\"\\nHIGHEST PAYING JOB:\")\n",
        "    print(f\" Title: {row_max['title']}\")\n",
        "    print(f\" Country: {row_max.get('country','')}\")\n",
        "    print(f\" Effective salary: {row_max['effective_salary']}\")"
      ],
      "metadata": {
        "id": "z5Kp2mpea1ST",
        "outputId": "6ab8016a-15d3-483e-aa86-9185c61b399e",
        "colab": {
          "base_uri": "https://localhost:8080/"
        }
      },
      "execution_count": 10,
      "outputs": [
        {
          "output_type": "stream",
          "name": "stdout",
          "text": [
            "\n",
            "HIGHEST PAYING JOB:\n",
            " Title: ??·???MAIL MARKETERS, DESIGNERS, AND SMS WIZARDS ???????????·??????????·?\n",
            "??·???e Are Hiring at SCALE ALCHEMY??·??·,https://www.upwork.com/jobs/EMAIL-MARKETERS-DESIGNERS-AND-SMS-WIZARDS-Are-Hiring-SCALE-ALCHEMY_%7E01c421c23fdd7f412f?source=rss\"\n",
            " Country: nan\n",
            " Effective salary: 1600000.0\n"
          ]
        }
      ]
    },
    {
      "cell_type": "code",
      "source": [
        "import pandas as pd\n",
        "\n",
        "# Load your dataset (change path if needed)\n",
        "df = pd.read_csv(\"all_upwork_jobs.csv\", encoding=\"latin1\", on_bad_lines=\"skip\")\n",
        "\n",
        "print(\"Data loaded:\", df.shape)\n",
        "print(df.head())"
      ],
      "metadata": {
        "id": "lsy_BphKa-lM",
        "outputId": "d9f16b9f-7579-441c-ad76-b4a4f7d2916f",
        "colab": {
          "base_uri": "https://localhost:8080/"
        }
      },
      "execution_count": 11,
      "outputs": [
        {
          "output_type": "stream",
          "name": "stdout",
          "text": [
            "Data loaded: (244827, 8)\n",
            "                                               title  \\\n",
            "0  Experienced Media Buyer For Solar Pannel and R...   \n",
            "1                               Full Stack Developer   \n",
            "2                                    SMMA Bubble App   \n",
            "3             Talent Hunter Specialized in Marketing   \n",
            "4                                      Data Engineer   \n",
            "\n",
            "                                                link  \\\n",
            "0  https://www.upwork.com/jobs/Experienced-Media-...   \n",
            "1  https://www.upwork.com/jobs/Full-Stack-Develop...   \n",
            "2  https://www.upwork.com/jobs/SMMA-Bubble-App_%7...   \n",
            "3  https://www.upwork.com/jobs/Talent-Hunter-Spec...   \n",
            "4  https://www.upwork.com/jobs/Data-Engineer_%7E0...   \n",
            "\n",
            "              published_date is_hourly  hourly_low  hourly_high budget  \\\n",
            "0  2024-02-17 09:09:54+00:00     FALSE         NaN          NaN    500   \n",
            "1  2024-02-17 09:09:17+00:00     FALSE         NaN          NaN   1100   \n",
            "2  2024-02-17 09:08:46+00:00      TRUE        10.0         30.0    NaN   \n",
            "3  2024-02-17 09:08:08+00:00      TRUE         NaN          NaN    NaN   \n",
            "4  2024-02-17 09:07:42+00:00     FALSE         NaN          NaN    650   \n",
            "\n",
            "         country  \n",
            "0            NaN  \n",
            "1  United States  \n",
            "2  United States  \n",
            "3  United States  \n",
            "4          India  \n"
          ]
        }
      ]
    },
    {
      "cell_type": "code",
      "source": [
        "# Top countries by job count\n",
        "plt.figure(figsize=(8,4))\n",
        "sns.barplot(x=top_countries.index, y=top_countries.values)\n",
        "plt.title(\"Top Countries by Job Count\")\n",
        "plt.xticks(rotation=45)\n",
        "plt.tight_layout()\n",
        "plt.show()"
      ],
      "metadata": {
        "colab": {
          "base_uri": "https://localhost:8080/",
          "height": 401
        },
        "id": "Wi0J1p14ZSYc",
        "outputId": "9bd3b4b9-ab37-486e-d75f-06bf20d847b9"
      },
      "execution_count": 12,
      "outputs": [
        {
          "output_type": "display_data",
          "data": {
            "text/plain": [
              "<Figure size 800x400 with 1 Axes>"
            ],
            "image/png": "[encoded data removed]"
          },
          "metadata": {}
        }
      ]
    },
    {
      "cell_type": "markdown",
      "source": [
        "**TF-IDF Keyword Extraction**"
      ],
      "metadata": {
        "id": "8FgbRrcCZZRg"
      }
    },
    {
      "cell_type": "code",
      "source": [
        "df[\"text\"] = df[\"title\"].fillna(\"\") + \" \" + df[\"country\"].fillna(\"\")\n",
        "vectorizer = TfidfVectorizer(stop_words=\"english\", max_features=5000)\n",
        "X_tfidf = vectorizer.fit_transform(df[\"text\"])\n",
        "\n",
        "# Top keywords\n",
        "tfidf_sum = np.asarray(X_tfidf.sum(axis=0)).ravel()\n",
        "feature_names = vectorizer.get_feature_names_out()\n",
        "top_n = min(15, len(feature_names))\n",
        "top_idx = tfidf_sum.argsort()[::-1][:top_n]\n",
        "\n",
        "print(\"\\nTop TF-IDF Keywords:\")\n",
        "for i in top_idx:\n",
        "    print(f\" {feature_names[i]} ({tfidf_sum[i]:.2f})\")\n"
      ],
      "metadata": {
        "colab": {
          "base_uri": "https://localhost:8080/"
        },
        "id": "Dmy-DUvoZbHw",
        "outputId": "7ec38fb9-c809-4f0e-bcee-20b8cd2c1f6b"
      },
      "execution_count": 13,
      "outputs": [
        {
          "output_type": "stream",
          "name": "stdout",
          "text": [
            "\n",
            "Top TF-IDF Keywords:\n",
            " united (16114.04)\n",
            " states (14841.51)\n",
            " kingdom (5139.10)\n",
            " website (5006.10)\n",
            " india (4771.97)\n",
            " developer (4745.30)\n",
            " needed (4406.03)\n",
            " expert (4251.53)\n",
            " video (4217.72)\n",
            " design (4096.86)\n",
            " designer (4082.69)\n",
            " australia (3829.09)\n",
            " canada (3640.30)\n",
            " specialist (3024.75)\n",
            " marketing (2906.51)\n"
          ]
        }
      ]
    },
    {
      "cell_type": "code",
      "source": [
        "# Ensure numeric\n",
        "for c in [\"hourly_low\",\"hourly_high\",\"budget\"]:\n",
        "    if c in df.columns:\n",
        "        df[c] = pd.to_numeric(df[c], errors=\"coerce\")\n",
        "\n",
        "# Average hourly\n",
        "df[\"avg_hourly\"] = df[[\"hourly_low\",\"hourly_high\"]].mean(axis=1)\n",
        "\n",
        "# Approximate monthly from hourly\n",
        "df[\"hourly_monthly\"] = df[\"avg_hourly\"] * 160\n",
        "\n",
        "# Effective salary: use hourly_monthly if hourly, else budget\n",
        "df[\"effective_salary\"] = df.apply(\n",
        "    lambda r: r[\"hourly_monthly\"] if (pd.notna(r.get(\"hourly_monthly\")) and r.get(\"is_hourly\", False))\n",
        "    else r.get(\"budget\", np.nan),\n",
        "    axis=1\n",
        ")\n"
      ],
      "metadata": {
        "id": "o3yBEkMo_raJ"
      },
      "execution_count": 15,
      "outputs": []
    },
    {
      "cell_type": "markdown",
      "source": [
        "**Job Recommendation System**"
      ],
      "metadata": {
        "id": "bt2IHp7iZtUw"
      }
    },
    {
      "cell_type": "code",
      "source": [
        "# Reduce dimensionality for NearestNeighbors\n",
        "svd = TruncatedSVD(n_components=50, random_state=42)\n",
        "X_reduced = svd.fit_transform(X_tfidf)\n",
        "\n",
        "# Fit NearestNeighbors\n",
        "nn_model = NearestNeighbors(n_neighbors=5, metric=\"cosine\")\n",
        "nn_model.fit(X_reduced)\n",
        "\n",
        "# Function to recommend similar jobs\n",
        "def recommend_jobs(job_idx, n=5):\n",
        "    distances, indices = nn_model.kneighbors([X_reduced[job_idx]], n_neighbors=n)\n",
        "    print(f\"\\nRecommendations for job: {df.iloc[job_idx]['title']} ({df.iloc[job_idx]['country']})\")\n",
        "    for i, idx in enumerate(indices[0]):\n",
        "        if idx != job_idx:\n",
        "            salary = df.iloc[idx].get('effective_salary', 'N/A')\n",
        "            print(f\"{i+1}. {df.iloc[idx]['title']} ({df.iloc[idx]['country']}) - Salary: {salary}\")\n",
        "\n",
        "# Example usage\n",
        "recommend_jobs(0)"
      ],
      "metadata": {
        "id": "jcg87VoAZwk4",
        "outputId": "60627957-6c5e-4261-eb4c-4c61f5ce15ad",
        "colab": {
          "base_uri": "https://localhost:8080/"
        }
      },
      "execution_count": 17,
      "outputs": [
        {
          "output_type": "stream",
          "name": "stdout",
          "text": [
            "\n",
            "Recommendations for job: Experienced Media Buyer For Solar Pannel and Roofing installation companies. (nan)\n",
            "2. Experienced  TikTok Media Buyer (Israel) - Salary: nan\n",
            "3. Busco Media Buyer con Experiencia en E-Commerce (Chile) - Salary: 300.0\n",
            "4. Busco Media Buyer para Ecommerce (Argentina) - Salary: 200.0\n",
            "5. Media Buyer Contractors, Roofers, Remodeling (Latvia) - Salary: nan\n"
          ]
        }
      ]
    },
    {
      "cell_type": "markdown",
      "source": [
        "**Save Your Model for Deployment**"
      ],
      "metadata": {
        "id": "jPZoURUGnbsu"
      }
    },
    {
      "cell_type": "code",
      "source": [
        "import joblib\n",
        "import os\n",
        "\n",
        "MODEL_DIR = \"./models\"\n",
        "os.makedirs(MODEL_DIR, exist_ok=True)\n",
        "\n",
        "joblib.dump(vectorizer, os.path.join(MODEL_DIR, \"tfidf_vectorizer.pkl\"))\n",
        "joblib.dump(svd, os.path.join(MODEL_DIR, \"svd_model.pkl\"))\n",
        "joblib.dump(nn_model, os.path.join(MODEL_DIR, \"nn_model.pkl\"))\n",
        "print(\"Models saved successfully!\")\n"
      ],
      "metadata": {
        "colab": {
          "base_uri": "https://localhost:8080/"
        },
        "id": "gDOBBzJ_ngAl",
        "outputId": "7ef5bbcc-8317-41e4-d32b-5304a4068aee"
      },
      "execution_count": 18,
      "outputs": [
        {
          "output_type": "stream",
          "name": "stdout",
          "text": [
            "Models saved successfully!\n"
          ]
        }
      ]
    },
    {
      "cell_type": "markdown",
      "source": [
        "**Create a Web API with Flask**"
      ],
      "metadata": {
        "id": "n0_G8XJ4owv9"
      }
    },
    {
      "cell_type": "code",
      "source": [
        "from pyngrok import ngrok\n",
        "\n",
        "# Kill all existing tunnels\n",
        "ngrok.kill()\n",
        "print(\"All ngrok tunnels closed.\")\n"
      ],
      "metadata": {
        "colab": {
          "base_uri": "https://localhost:8080/"
        },
        "id": "eqck1vxZ3ETS",
        "outputId": "43bfb645-d29d-4950-a33a-20300e5faa30"
      },
      "execution_count": 35,
      "outputs": [
        {
          "output_type": "stream",
          "name": "stdout",
          "text": [
            "All ngrok tunnels closed.\n"
          ]
        }
      ]
    },
    {
      "cell_type": "code",
      "source": [
        "# ----------------------------\n",
        "# Install dependencies (Colab only)\n",
        "# ----------------------------\n",
        "!pip install flask pyngrok joblib --quiet\n",
        "\n",
        "# ----------------------------\n",
        "# Imports\n",
        "# ----------------------------\n",
        "from flask import Flask, request, jsonify, render_template_string\n",
        "from pyngrok import ngrok\n",
        "import pandas as pd\n",
        "import joblib\n",
        "import numpy as np\n",
        "\n",
        "# ----------------------------\n",
        "# Load dataset\n",
        "# ----------------------------\n",
        "df = pd.read_csv(\"all_upwork_jobs.csv\", encoding=\"latin1\", on_bad_lines=\"skip\")\n",
        "\n",
        "# Preprocess salaries\n",
        "for c in [\"hourly_low\", \"hourly_high\", \"budget\"]:\n",
        "    if c in df.columns:\n",
        "        df[c] = pd.to_numeric(df[c], errors=\"coerce\")\n",
        "\n",
        "df[\"avg_hourly\"] = df[[\"hourly_low\", \"hourly_high\"]].mean(axis=1)\n",
        "df[\"hourly_monthly\"] = df[\"avg_hourly\"] * 160\n",
        "df[\"effective_salary\"] = df.apply(\n",
        "    lambda r: r[\"hourly_monthly\"] if pd.notna(r.get(\"hourly_monthly\")) and r.get(\"is_hourly\", False)\n",
        "    else r.get(\"budget\", 0),\n",
        "    axis=1\n",
        ")\n",
        "df[\"text\"] = df[\"title\"].fillna(\"\") + \" \" + df[\"country\"].fillna(\"\")\n",
        "\n",
        "# ----------------------------\n",
        "# Load trained models\n",
        "# ----------------------------\n",
        "vectorizer = joblib.load(\"./models/tfidf_vectorizer.pkl\")\n",
        "svd = joblib.load(\"./models/svd_model.pkl\")\n",
        "nn_model = joblib.load(\"./models/nn_model.pkl\")\n",
        "\n",
        "X_tfidf = vectorizer.transform(df[\"text\"])\n",
        "X_reduced = svd.transform(X_tfidf)\n",
        "\n",
        "# ----------------------------\n",
        "# Flask app\n",
        "# ----------------------------\n",
        "app = Flask(__name__)\n",
        "\n",
        "@app.route(\"/\", methods=[\"GET\"])\n",
        "def home():\n",
        "    return \"Recommendation API is running! Use /recommend to see job recommendations.\"\n",
        "\n",
        "@app.route(\"/recommend\", methods=[\"GET\", \"POST\"])\n",
        "def recommend():\n",
        "    # Read inputs from form or query params\n",
        "    if request.method == \"POST\":\n",
        "        job_idx = int(request.form.get(\"job_index\", 0))\n",
        "        n = int(request.form.get(\"n\", 5))\n",
        "    else:  # GET\n",
        "        job_idx = int(request.args.get(\"job_index\", 0))\n",
        "        n = int(request.args.get(\"n\", 5))\n",
        "\n",
        "    # Get neighbors\n",
        "    distances, indices = nn_model.kneighbors([X_reduced[job_idx]], n_neighbors=n)\n",
        "    recommendations = []\n",
        "    for idx in indices[0]:\n",
        "        if idx != job_idx:\n",
        "            salary = df.iloc[idx][\"effective_salary\"]\n",
        "            if salary > 0:\n",
        "                recommendations.append({\n",
        "                    \"title\": df.iloc[idx][\"title\"],\n",
        "                    \"country\": df.iloc[idx][\"country\"],\n",
        "                    \"effective_salary\": float(salary)\n",
        "                })\n",
        "\n",
        "    # HTML form + results table\n",
        "    html_template = \"\"\"\n",
        "    <html>\n",
        "    <head>\n",
        "        <title>Job Recommendations</title>\n",
        "        <style>\n",
        "            body { font-family: Arial, sans-serif; margin: 40px; }\n",
        "            form { text-align: center; margin-bottom: 30px; }\n",
        "            input, button { padding: 8px; margin: 5px; }\n",
        "            table { border-collapse: collapse; width: 80%; margin: auto; }\n",
        "            th, td { border: 1px solid #ddd; padding: 10px; text-align: center; }\n",
        "            th { background-color: #4CAF50; color: white; }\n",
        "            tr:nth-child(even) { background-color: #f2f2f2; }\n",
        "        </style>\n",
        "    </head>\n",
        "    <body>\n",
        "        <h2 style=\"text-align:center;\">Job Recommendations</h2>\n",
        "\n",
        "        <form method=\"post\">\n",
        "            <label>Job Index:</label>\n",
        "            <input type=\"number\" name=\"job_index\" value=\"{{ job_idx }}\" min=\"0\">\n",
        "            <label>Number of Recommendations:</label>\n",
        "            <input type=\"number\" name=\"n\" value=\"{{ n }}\" min=\"1\" max=\"20\">\n",
        "            <button type=\"submit\">Get Recommendations</button>\n",
        "        </form>\n",
        "\n",
        "        <table>\n",
        "            <tr>\n",
        "                <th>Title</th>\n",
        "                <th>Country</th>\n",
        "                <th>Effective Salary</th>\n",
        "            </tr>\n",
        "            {% for rec in recommendations %}\n",
        "            <tr>\n",
        "                <td>{{ rec.title }}</td>\n",
        "                <td>{{ rec.country }}</td>\n",
        "                <td>{{ rec.effective_salary }}</td>\n",
        "            </tr>\n",
        "            {% endfor %}\n",
        "        </table>\n",
        "    </body>\n",
        "    </html>\n",
        "    \"\"\"\n",
        "\n",
        "    return render_template_string(html_template, recommendations=recommendations, job_idx=job_idx, n=n)\n",
        "\n",
        "# ----------------------------\n",
        "# Start ngrok tunnel\n",
        "# ----------------------------\n",
        "NGROK_AUTH_TOKEN = \"30WMYAsA1jiKQqsxhjzDBd6oamD_3jXCRjDbLja2dravFoxsY\"  # replace with your ngrok token\n",
        "ngrok.set_auth_token(NGROK_AUTH_TOKEN)\n",
        "\n",
        "import random\n",
        "PORT = random.randint(5000, 9000)\n",
        "public_url = ngrok.connect(PORT)\n",
        "print(\" * Public URL:\", public_url)\n",
        "\n",
        "# Run Flask app\n",
        "app.run(port=PORT)\n"
      ],
      "metadata": {
        "colab": {
          "base_uri": "https://localhost:8080/"
        },
        "id": "aj4bwxQkS5J8",
        "outputId": "8d75a7d5-2702-44b5-ea1d-279373da5a9d"
      },
      "execution_count": null,
      "outputs": [
        {
          "metadata": {
            "tags": null
          },
          "name": "stdout",
          "output_type": "stream",
          "text": [
            " * Public URL: NgrokTunnel: \"https://c1cb6a822974.ngrok-free.app\" -> \"http://localhost:8384\"\n",
            " * Serving Flask app '__main__'\n",
            " * Debug mode: off\n"
          ]
        },
        {
          "metadata": {
            "tags": null
          },
          "name": "stderr",
          "output_type": "stream",
          "text": [
            "INFO:werkzeug:\u001b[31m\u001b[1mWARNING: This is a development server. Do not use it in a production deployment. Use a production WSGI server instead.\u001b[0m\n",
            " * Running on http://127.0.0.1:8384\n",
            "INFO:werkzeug:\u001b[33mPress CTRL+C to quit\u001b[0m\n",
            "INFO:werkzeug:127.0.0.1 - - [07/Sep/2025 22:31:20] \"GET /recommend?job_index=0&n=5 HTTP/1.1\" 200 -\n",
            "INFO:werkzeug:127.0.0.1 - - [07/Sep/2025 22:31:21] \"\u001b[33mGET /favicon.ico HTTP/1.1\u001b[0m\" 404 -\n",
            "INFO:werkzeug:127.0.0.1 - - [07/Sep/2025 22:31:33] \"POST /recommend?job_index=0&n=5 HTTP/1.1\" 200 -\n",
            "INFO:werkzeug:127.0.0.1 - - [07/Sep/2025 22:31:42] \"POST /recommend?job_index=0&n=5 HTTP/1.1\" 200 -\n",
            "INFO:werkzeug:127.0.0.1 - - [07/Sep/2025 22:31:50] \"POST /recommend?job_index=0&n=5 HTTP/1.1\" 200 -\n",
            "INFO:werkzeug:127.0.0.1 - - [07/Sep/2025 22:31:59] \"POST /recommend?job_index=0&n=5 HTTP/1.1\" 200 -\n",
            "INFO:werkzeug:127.0.0.1 - - [07/Sep/2025 22:32:07] \"POST /recommend?job_index=0&n=5 HTTP/1.1\" 200 -\n"
          ]
        }
      ]
    }
  ]
}